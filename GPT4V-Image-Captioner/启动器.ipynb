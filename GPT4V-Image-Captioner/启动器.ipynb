{
 "cells": [
  {
   "cell_type": "markdown",
   "id": "28b8f0e9-e48c-4a19-9144-f2a8a7cc41fd",
   "metadata": {},
   "source": [
    "## 说明\n",
    "\n",
    "![](https://oss.talesofai.cn/public/s_2023-04-13%20at%2022.28.22.png?cc0429)\n",
    "- 启动和重启 webui 点上方工具栏中的「重启并运行所有单元格」。出现 `http://0.0.0.0:6006` 这个字样就算成功了。可以去 autodl 控制台打开「自定义服务」了\n",
    "- 首次启动需要下载基本的模型，请稍等几分钟\n",
    "- 可以使用 jupyterlab 上传图片。比如我预置了个 `demo` 文件夹，他的实际路径是 `/root/demo`。一般在 jupyter 里右键复制文件夹路径后，前面还需要加上 `/root/`\n",
    "\n",
    "## 功能介绍\n",
    "\n",
    "- [GPT4V-Image-Captioner](https://github.com/jiayev/GPT4V-Image-Captioner) 环境已经装好，一键启动\n",
    "- 预置 cogagent-vqa-hf 模型\n",
    "- 感谢原作者 [Jiaye](https://civitai.com/user/jiayev1), [LEOSAM是只兔狲](https://civitai.com/user/LEOSAM), [SleeeepyZhou](https://space.bilibili.com/360375877), [Fok](https://civitai.com/user/fok3827)\n",
    "\n",
    "## 有问题请联系\n",
    "\n",
    "- Email：autodl_share@tzwm.me\n",
    "- GitHub: https://github.com/tzwm/autodl-sd-webui\n",
    "\n",
    "## ChangeLog\n",
    "\n",
    "- 20240128 v1\n",
    "  - 装好基础环境和模型预置"
   ]
  },
  {
   "cell_type": "code",
   "execution_count": null,
   "id": "c1d8dc20-b7eb-4308-9efc-852e5e921dbd",
   "metadata": {},
   "outputs": [],
   "source": [
    "# 初始化\n",
    "!bash /root/tzwm-autodl/GPT4V-Image-Captioner/scripts/init-download.sh"
   ]
  },
  {
   "cell_type": "code",
   "execution_count": null,
   "id": "6f3c7751-7e8f-4c62-92b8-e1039a77a882",
   "metadata": {},
   "outputs": [],
   "source": [
    "# 启动\n",
    "!bash /root/tzwm-autodl/GPT4V-Image-Captioner/scripts/start.sh"
   ]
  }
 ],
 "metadata": {
  "kernelspec": {
   "display_name": "Python 3 (ipykernel)",
   "language": "python",
   "name": "python3"
  },
  "language_info": {
   "codemirror_mode": {
    "name": "ipython",
    "version": 3
   },
   "file_extension": ".py",
   "mimetype": "text/x-python",
   "name": "python",
   "nbconvert_exporter": "python",
   "pygments_lexer": "ipython3",
   "version": "3.10.8"
  }
 },
 "nbformat": 4,
 "nbformat_minor": 5
}
